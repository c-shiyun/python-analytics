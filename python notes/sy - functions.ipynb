{
 "cells": [
  {
   "cell_type": "markdown",
   "id": "f834e26b",
   "metadata": {},
   "source": [
    "# def"
   ]
  },
  {
   "cell_type": "markdown",
   "id": "81642fad",
   "metadata": {},
   "source": [
    "### Call function "
   ]
  },
  {
   "cell_type": "code",
   "execution_count": 3,
   "id": "9a285ab4",
   "metadata": {},
   "outputs": [
    {
     "name": "stdout",
     "output_type": "stream",
     "text": [
      "I am learning python.\n"
     ]
    }
   ],
   "source": [
    "# define function\n",
    "def display_message():\n",
    "    message = \"I am learning python.\"\n",
    "    print(message)\n",
    "    \n",
    "# call the function\n",
    "display_message()"
   ]
  },
  {
   "cell_type": "markdown",
   "id": "85e79e4d",
   "metadata": {},
   "source": [
    "### Function parameter and argument"
   ]
  },
  {
   "cell_type": "code",
   "execution_count": 9,
   "id": "80c2c352",
   "metadata": {},
   "outputs": [
    {
     "name": "stdout",
     "output_type": "stream",
     "text": [
      "Hello Mac, I am learning python.\n"
     ]
    }
   ],
   "source": [
    "# define function with parameter\n",
    "def display_message(name): \n",
    "    message = \"I am learning python.\"\n",
    "    print(\"Hello \" + name + \",\", message)\n",
    "    \n",
    "# call the function with argument\n",
    "display_message(\"Mac\")"
   ]
  },
  {
   "cell_type": "markdown",
   "id": "b30e875d",
   "metadata": {},
   "source": [
    "### Input function parameter "
   ]
  },
  {
   "cell_type": "code",
   "execution_count": 10,
   "id": "e5527b97",
   "metadata": {},
   "outputs": [
    {
     "name": "stdout",
     "output_type": "stream",
     "text": [
      "Enter book title: python\n",
      "One of my favourite books is python.\n"
     ]
    }
   ],
   "source": [
    "# user input parameter\n",
    "title = input(\"Enter book title: \")\n",
    "\n",
    "# define function \n",
    "def favourite_book(title):\n",
    "    print(f\"One of my favourite books is {title}.\")\n",
    "    \n",
    "# call the function \n",
    "favourite_book(title)"
   ]
  },
  {
   "cell_type": "markdown",
   "id": "411130b3",
   "metadata": {},
   "source": [
    "### Function print or return"
   ]
  },
  {
   "cell_type": "markdown",
   "id": "78845896",
   "metadata": {},
   "source": [
    "> print"
   ]
  },
  {
   "cell_type": "code",
   "execution_count": 14,
   "id": "4d3f596f",
   "metadata": {},
   "outputs": [
    {
     "name": "stdout",
     "output_type": "stream",
     "text": [
      "3\n",
      "None\n"
     ]
    }
   ],
   "source": [
    "# show value\n",
    "def add(a, b):\n",
    "    print(a+b) # print 3\n",
    "\n",
    "total = add(1,2) # When call function here no return, therefore return none.\n",
    "print(total)"
   ]
  },
  {
   "cell_type": "markdown",
   "id": "7a9f84f8",
   "metadata": {},
   "source": [
    "> return"
   ]
  },
  {
   "cell_type": "code",
   "execution_count": 15,
   "id": "3cf1a634",
   "metadata": {},
   "outputs": [
    {
     "name": "stdout",
     "output_type": "stream",
     "text": [
      "3\n"
     ]
    }
   ],
   "source": [
    "# return value\n",
    "def add(a, b):\n",
    "    return(a+b)\n",
    "\n",
    "total = add(1,2)\n",
    "print(total)"
   ]
  },
  {
   "cell_type": "markdown",
   "id": "74a852da",
   "metadata": {},
   "source": [
    "### Global and Local"
   ]
  },
  {
   "cell_type": "code",
   "execution_count": 19,
   "id": "4d3501e9",
   "metadata": {},
   "outputs": [
    {
     "name": "stdout",
     "output_type": "stream",
     "text": [
      "Python is inside\n",
      "Python is outside\n"
     ]
    }
   ],
   "source": [
    "x = \"outside\"\n",
    "\n",
    "def mylocal():\n",
    "  x = \"inside\"\n",
    "  print(\"Python is \" + x)\n",
    "\n",
    "mylocal() # call inside \n",
    "\n",
    "print(\"Python is \" + x) # print outside"
   ]
  },
  {
   "cell_type": "markdown",
   "id": "4fec1001",
   "metadata": {},
   "source": [
    "### Exception handling"
   ]
  },
  {
   "cell_type": "code",
   "execution_count": 20,
   "id": "41efc5ca",
   "metadata": {},
   "outputs": [
    {
     "name": "stdout",
     "output_type": "stream",
     "text": [
      "Enter number1: 2\n",
      "Enter number2: 0\n"
     ]
    },
    {
     "ename": "ZeroDivisionError",
     "evalue": "division by zero",
     "output_type": "error",
     "traceback": [
      "\u001b[0;31m---------------------------------------------------------------------------\u001b[0m",
      "\u001b[0;31mZeroDivisionError\u001b[0m                         Traceback (most recent call last)",
      "\u001b[0;32m/var/folders/rw/jy04tzbs3hz_dn235lgs3zs00000gn/T/ipykernel_1194/4000191094.py\u001b[0m in \u001b[0;36m<module>\u001b[0;34m\u001b[0m\n\u001b[1;32m      5\u001b[0m \u001b[0my\u001b[0m \u001b[0;34m=\u001b[0m \u001b[0minput\u001b[0m\u001b[0;34m(\u001b[0m\u001b[0;34m\"Enter number2: \"\u001b[0m\u001b[0;34m)\u001b[0m\u001b[0;34m\u001b[0m\u001b[0;34m\u001b[0m\u001b[0m\n\u001b[1;32m      6\u001b[0m \u001b[0;34m\u001b[0m\u001b[0m\n\u001b[0;32m----> 7\u001b[0;31m \u001b[0mz\u001b[0m \u001b[0;34m=\u001b[0m \u001b[0mint\u001b[0m\u001b[0;34m(\u001b[0m\u001b[0mx\u001b[0m\u001b[0;34m)\u001b[0m \u001b[0;34m/\u001b[0m \u001b[0mint\u001b[0m\u001b[0;34m(\u001b[0m\u001b[0my\u001b[0m\u001b[0;34m)\u001b[0m \u001b[0;31m# i.e 2/0 = error\u001b[0m\u001b[0;34m\u001b[0m\u001b[0;34m\u001b[0m\u001b[0m\n\u001b[0m\u001b[1;32m      8\u001b[0m \u001b[0;34m\u001b[0m\u001b[0m\n\u001b[1;32m      9\u001b[0m \u001b[0mprint\u001b[0m\u001b[0;34m(\u001b[0m\u001b[0;34m\"Division: \"\u001b[0m\u001b[0;34m,\u001b[0m \u001b[0mz\u001b[0m\u001b[0;34m)\u001b[0m\u001b[0;34m\u001b[0m\u001b[0;34m\u001b[0m\u001b[0m\n",
      "\u001b[0;31mZeroDivisionError\u001b[0m: division by zero"
     ]
    }
   ],
   "source": [
    "# error without exception handling\n",
    "\n",
    "# user input\n",
    "x = input(\"Enter number1: \")\n",
    "y = input(\"Enter number2: \")\n",
    "\n",
    "z = int(x) / int(y) # i.e 2/0 = error\n",
    "    \n",
    "print(\"Division: \", z)"
   ]
  },
  {
   "cell_type": "code",
   "execution_count": 21,
   "id": "11c7208d",
   "metadata": {},
   "outputs": [
    {
     "name": "stdout",
     "output_type": "stream",
     "text": [
      "Enter number1: 2\n",
      "Enter number2: 0\n",
      "exception:  division by zero\n",
      "Division:  None\n"
     ]
    }
   ],
   "source": [
    "# No error with exception handling\n",
    "\n",
    "# user input\n",
    "x = input(\"Enter number1: \")\n",
    "y = input(\"Enter number2: \")\n",
    "\n",
    "try:\n",
    "    z = int(x) / int(y) # i.e 2/0 = none\n",
    "    \n",
    "except ZeroDivisionError as e:\n",
    "    print(\"exception: \", e)\n",
    "    z = None\n",
    "\n",
    "print(\"Division: \", z)"
   ]
  },
  {
   "cell_type": "code",
   "execution_count": 22,
   "id": "2633875a",
   "metadata": {},
   "outputs": [
    {
     "name": "stdout",
     "output_type": "stream",
     "text": [
      "Enter an integer: 9.0\n",
      "Please enter integer NOT float.\n",
      "Enter an integer: 9\n",
      "You are 9 years old.\n"
     ]
    }
   ],
   "source": [
    "# define function\n",
    "def intInput(alert):\n",
    "    while True:\n",
    "        try:\n",
    "            intValue = int(input(alert))\n",
    "            return intValue\n",
    "\n",
    "        except ValueError:\n",
    "            print(\"Please enter integer NOT float.\") \n",
    "\n",
    "# call function\n",
    "age = intInput(\"Enter an integer: \")\n",
    "\n",
    "print(f\"You are {age} years old.\")"
   ]
  },
  {
   "cell_type": "markdown",
   "id": "28158664",
   "metadata": {},
   "source": [
    "### Lambda "
   ]
  },
  {
   "cell_type": "markdown",
   "id": "d0a65c2b",
   "metadata": {},
   "source": [
    "#### Note\n",
    "```lambda argument(s): expression```"
   ]
  },
  {
   "cell_type": "code",
   "execution_count": 23,
   "id": "79d115c9",
   "metadata": {},
   "outputs": [
    {
     "name": "stdout",
     "output_type": "stream",
     "text": [
      "3\n"
     ]
    }
   ],
   "source": [
    "# number\n",
    "\n",
    "x = lambda a, b : a + b\n",
    "\n",
    "print(x(1, 2))"
   ]
  },
  {
   "cell_type": "code",
   "execution_count": 2,
   "id": "172bfac5",
   "metadata": {},
   "outputs": [
    {
     "name": "stdout",
     "output_type": "stream",
     "text": [
      "Colour: Green White\n"
     ]
    }
   ],
   "source": [
    "# string\n",
    "\n",
    "colour = lambda first, last: f\"Colour: {first.title()} {last.title()}\"\n",
    "\n",
    "print(colour(\"green\", \"white\"))"
   ]
  }
 ],
 "metadata": {
  "kernelspec": {
   "display_name": "Python 3 (ipykernel)",
   "language": "python",
   "name": "python3"
  },
  "language_info": {
   "codemirror_mode": {
    "name": "ipython",
    "version": 3
   },
   "file_extension": ".py",
   "mimetype": "text/x-python",
   "name": "python",
   "nbconvert_exporter": "python",
   "pygments_lexer": "ipython3",
   "version": "3.9.13"
  }
 },
 "nbformat": 4,
 "nbformat_minor": 5
}

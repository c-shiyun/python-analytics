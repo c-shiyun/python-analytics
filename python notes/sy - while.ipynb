{
 "cells": [
  {
   "cell_type": "markdown",
   "id": "4bb6777c",
   "metadata": {},
   "source": [
    "### while\n",
    "\n",
    "- repeated unknown number of times"
   ]
  },
  {
   "cell_type": "code",
   "execution_count": 4,
   "id": "f392711a",
   "metadata": {},
   "outputs": [
    {
     "name": "stdout",
     "output_type": "stream",
     "text": [
      "1\n",
      "2\n",
      "3\n",
      "4\n",
      "5\n"
     ]
    }
   ],
   "source": [
    "# initialise variables\n",
    "i = 0\n",
    "\n",
    "while i <5:\n",
    "    i = i + 1 # while increases value of i \n",
    "    print(i) # executed when loop exited"
   ]
  },
  {
   "cell_type": "code",
   "execution_count": 5,
   "id": "9de044eb",
   "metadata": {},
   "outputs": [
    {
     "name": "stdout",
     "output_type": "stream",
     "text": [
      "Please enter learning language.\n",
      "Enter language: python\n",
      "You have registered for python learning.\n"
     ]
    }
   ],
   "source": [
    "while True:\n",
    "    print(\"Please enter learning language.\")\n",
    "    language = input(\"Enter language: \")\n",
    "    if language == 'python':\n",
    "        break\n",
    "    else:\n",
    "        print(\"Retry\")\n",
    "print(\"You have registered for python learning.\")"
   ]
  },
  {
   "cell_type": "code",
   "execution_count": 3,
   "id": "9eb2e003",
   "metadata": {},
   "outputs": [
    {
     "name": "stdout",
     "output_type": "stream",
     "text": [
      "12 divisible by 2\n",
      "14 divisible by 2\n",
      "16 divisible by 2\n",
      "18 divisible by 2\n",
      "20 divisible by 2\n"
     ]
    }
   ],
   "source": [
    "# find number greater than 10 and divisible by 2\n",
    "x = 10\n",
    "while x <=20:\n",
    "    x = x + 1\n",
    "    if x % 2 == 0:\n",
    "        print(x, \"divisible by 2\")"
   ]
  }
 ],
 "metadata": {
  "kernelspec": {
   "display_name": "Python 3 (ipykernel)",
   "language": "python",
   "name": "python3"
  },
  "language_info": {
   "codemirror_mode": {
    "name": "ipython",
    "version": 3
   },
   "file_extension": ".py",
   "mimetype": "text/x-python",
   "name": "python",
   "nbconvert_exporter": "python",
   "pygments_lexer": "ipython3",
   "version": "3.9.13"
  }
 },
 "nbformat": 4,
 "nbformat_minor": 5
}

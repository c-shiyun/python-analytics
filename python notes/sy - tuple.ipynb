{
 "cells": [
  {
   "cell_type": "markdown",
   "id": "6948d201",
   "metadata": {},
   "source": [
    "### Create empty tuple"
   ]
  },
  {
   "cell_type": "code",
   "execution_count": 2,
   "id": "3bc3e73e",
   "metadata": {},
   "outputs": [
    {
     "name": "stdout",
     "output_type": "stream",
     "text": [
      "()\n",
      "\n",
      "()\n"
     ]
    }
   ],
   "source": [
    "# Method 1\n",
    "new_tuple = ()\n",
    "print(new_tuple)\n",
    "\n",
    "print()\n",
    "\n",
    "# Method 2\n",
    "empty_tuple = tuple()\n",
    "print(empty_tuple)"
   ]
  },
  {
   "cell_type": "markdown",
   "id": "8d86191a",
   "metadata": {},
   "source": [
    "### Create a tuple"
   ]
  },
  {
   "cell_type": "code",
   "execution_count": 4,
   "id": "042277d8",
   "metadata": {},
   "outputs": [
    {
     "name": "stdout",
     "output_type": "stream",
     "text": [
      "('apple', 'berries', 'mango', 'orange', 'avocado')\n"
     ]
    }
   ],
   "source": [
    "fruits = tuple((\"apple\", \"berries\", \"mango\", \"orange\", \"avocado\"))\n",
    "print(fruits)"
   ]
  },
  {
   "cell_type": "markdown",
   "id": "eee718a2",
   "metadata": {},
   "source": [
    "### String length"
   ]
  },
  {
   "cell_type": "code",
   "execution_count": 5,
   "id": "dcad8e17",
   "metadata": {},
   "outputs": [
    {
     "name": "stdout",
     "output_type": "stream",
     "text": [
      "6\n"
     ]
    }
   ],
   "source": [
    "print(len(\"Python\"))"
   ]
  },
  {
   "cell_type": "markdown",
   "id": "79e3a680",
   "metadata": {},
   "source": [
    "### Index position"
   ]
  },
  {
   "cell_type": "code",
   "execution_count": 7,
   "id": "46c1bbb5",
   "metadata": {},
   "outputs": [
    {
     "name": "stdout",
     "output_type": "stream",
     "text": [
      "orange\n"
     ]
    }
   ],
   "source": [
    "fruits = tuple((\"apple\", \"berries\", \"mango\", \"orange\", \"avocado\"))\n",
    "print(fruits[3])"
   ]
  },
  {
   "cell_type": "markdown",
   "id": "950bbb9b",
   "metadata": {},
   "source": [
    "### Slice"
   ]
  },
  {
   "cell_type": "code",
   "execution_count": 8,
   "id": "8156a7d3",
   "metadata": {},
   "outputs": [
    {
     "name": "stdout",
     "output_type": "stream",
     "text": [
      "('apple', 'berries', 'mango')\n"
     ]
    }
   ],
   "source": [
    "fruits = tuple((\"apple\", \"berries\", \"mango\", \"orange\", \"avocado\"))\n",
    "print(fruits[:3])"
   ]
  },
  {
   "cell_type": "markdown",
   "id": "c4ab2cd3",
   "metadata": {},
   "source": [
    "### Count"
   ]
  },
  {
   "cell_type": "code",
   "execution_count": 9,
   "id": "98897cdc",
   "metadata": {},
   "outputs": [
    {
     "name": "stdout",
     "output_type": "stream",
     "text": [
      "3\n"
     ]
    }
   ],
   "source": [
    "fruits = (\"apple\", \"berries\", \"avocado\", \"orange\", \"avocado\", \"avocado\")\n",
    "count_item = fruits.count(\"apple\")\n",
    "print(count_item)"
   ]
  },
  {
   "cell_type": "markdown",
   "id": "f688cefe",
   "metadata": {},
   "source": [
    "### Convert from list to tuple"
   ]
  },
  {
   "cell_type": "code",
   "execution_count": null,
   "id": "a2933367",
   "metadata": {},
   "outputs": [],
   "source": [
    "fruits = [\"apple\", \"berries\", \"mango\", \"orange\", \"avocado\"]\n",
    "list_of_fruits = [\"durian\", \"apple\", \"ciku\", \"longan\", \"lychee\", \"apricot\"]\n",
    "\n",
    "tuple_of_fruits = tuple (list_of_fruits)\n",
    "\n",
    "print (list_of_fruits)"
   ]
  }
 ],
 "metadata": {
  "kernelspec": {
   "display_name": "Python 3 (ipykernel)",
   "language": "python",
   "name": "python3"
  },
  "language_info": {
   "codemirror_mode": {
    "name": "ipython",
    "version": 3
   },
   "file_extension": ".py",
   "mimetype": "text/x-python",
   "name": "python",
   "nbconvert_exporter": "python",
   "pygments_lexer": "ipython3",
   "version": "3.9.13"
  }
 },
 "nbformat": 4,
 "nbformat_minor": 5
}

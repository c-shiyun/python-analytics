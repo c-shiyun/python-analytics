{
 "cells": [
  {
   "cell_type": "markdown",
   "id": "bd15d3ae",
   "metadata": {},
   "source": [
    "## Numbers"
   ]
  },
  {
   "cell_type": "markdown",
   "id": "f35bdfac",
   "metadata": {},
   "source": [
    "### Types of numeric\n",
    "\n",
    "- int\n",
    "- float\n",
    "- complex"
   ]
  },
  {
   "cell_type": "markdown",
   "id": "c8251c37",
   "metadata": {},
   "source": [
    "#### Add"
   ]
  },
  {
   "cell_type": "code",
   "execution_count": 51,
   "id": "3b659c5b",
   "metadata": {},
   "outputs": [
    {
     "data": {
      "text/plain": [
       "11"
      ]
     },
     "execution_count": 51,
     "metadata": {},
     "output_type": "execute_result"
    }
   ],
   "source": [
    "# Add int\n",
    "1 + 10"
   ]
  },
  {
   "cell_type": "markdown",
   "id": "46716724",
   "metadata": {},
   "source": [
    "#### Subtract"
   ]
  },
  {
   "cell_type": "code",
   "execution_count": 50,
   "id": "d96dab9a",
   "metadata": {},
   "outputs": [
    {
     "data": {
      "text/plain": [
       "-90"
      ]
     },
     "execution_count": 50,
     "metadata": {},
     "output_type": "execute_result"
    }
   ],
   "source": [
    "# Subtract int\n",
    "10 - 100"
   ]
  },
  {
   "cell_type": "markdown",
   "id": "50b141e7",
   "metadata": {},
   "source": [
    "#### Multiply"
   ]
  },
  {
   "cell_type": "code",
   "execution_count": 49,
   "id": "fed30b97",
   "metadata": {},
   "outputs": [
    {
     "data": {
      "text/plain": [
       "58j"
      ]
     },
     "execution_count": 49,
     "metadata": {},
     "output_type": "execute_result"
    }
   ],
   "source": [
    "# Multiply complex\n",
    "(3+7j) * (7+3j)"
   ]
  },
  {
   "cell_type": "markdown",
   "id": "89b6d40c",
   "metadata": {},
   "source": [
    "#### Divide\n",
    "\n",
    "- Note: division will lead to float"
   ]
  },
  {
   "cell_type": "code",
   "execution_count": 48,
   "id": "855cd673",
   "metadata": {},
   "outputs": [
    {
     "data": {
      "text/plain": [
       "13.8"
      ]
     },
     "execution_count": 48,
     "metadata": {},
     "output_type": "execute_result"
    }
   ],
   "source": [
    "# Divide float with int\n",
    "69.0 / 5"
   ]
  },
  {
   "cell_type": "markdown",
   "id": "40e053c5",
   "metadata": {},
   "source": [
    "### Round off"
   ]
  },
  {
   "cell_type": "code",
   "execution_count": 45,
   "id": "f9d3df71",
   "metadata": {},
   "outputs": [
    {
     "name": "stdout",
     "output_type": "stream",
     "text": [
      "0.018305847076461768\n"
     ]
    }
   ],
   "source": [
    "x = 3.7 * 3.3 / 667\n",
    "print (x)"
   ]
  },
  {
   "cell_type": "code",
   "execution_count": 46,
   "id": "442bbe10",
   "metadata": {},
   "outputs": [
    {
     "name": "stdout",
     "output_type": "stream",
     "text": [
      "0.018\n"
     ]
    }
   ],
   "source": [
    "# Method 1: Round off to 3 decimal \n",
    "print (\"%.3f\" % x)"
   ]
  },
  {
   "cell_type": "code",
   "execution_count": 47,
   "id": "6063536e",
   "metadata": {},
   "outputs": [
    {
     "data": {
      "text/plain": [
       "0.018"
      ]
     },
     "execution_count": 47,
     "metadata": {},
     "output_type": "execute_result"
    }
   ],
   "source": [
    "# Method 2: Round off to 3 decimal \n",
    "round(x, 3)"
   ]
  },
  {
   "cell_type": "markdown",
   "id": "f67fb824",
   "metadata": {},
   "source": [
    "## String"
   ]
  },
  {
   "cell_type": "markdown",
   "id": "4e9d8778",
   "metadata": {},
   "source": [
    "### Print"
   ]
  },
  {
   "cell_type": "code",
   "execution_count": 43,
   "id": "db6e1bd8",
   "metadata": {},
   "outputs": [
    {
     "name": "stdout",
     "output_type": "stream",
     "text": [
      "I am learning python basics.\n"
     ]
    }
   ],
   "source": [
    "# Print text\n",
    "print(\"I am learning python basics.\")"
   ]
  },
  {
   "cell_type": "markdown",
   "id": "0147d727",
   "metadata": {},
   "source": [
    "> Print in table \n",
    "<mark> sep=';'</mark>"
   ]
  },
  {
   "cell_type": "code",
   "execution_count": 42,
   "id": "664815c7",
   "metadata": {},
   "outputs": [
    {
     "name": "stdout",
     "output_type": "stream",
     "text": [
      "one;two;three\n"
     ]
    }
   ],
   "source": [
    "print('one', 'two', 'three', sep=';')"
   ]
  },
  {
   "cell_type": "code",
   "execution_count": 75,
   "id": "b31ce573",
   "metadata": {},
   "outputs": [
    {
     "name": "stdout",
     "output_type": "stream",
     "text": [
      "English,French,German,Russian\n"
     ]
    }
   ],
   "source": [
    "a = \"English\" \n",
    "b = \"French\" \n",
    "c = \"German\" \n",
    "d = \"Russian\"\n",
    "print (a, b, c, d, sep = \",\")"
   ]
  },
  {
   "cell_type": "markdown",
   "id": "6997bccc",
   "metadata": {},
   "source": [
    "> Print with whitespace\n",
    "<mark>\\t</mark>"
   ]
  },
  {
   "cell_type": "code",
   "execution_count": 41,
   "id": "966455f8",
   "metadata": {},
   "outputs": [
    {
     "name": "stdout",
     "output_type": "stream",
     "text": [
      "Colours:\twhite\tgreen\tred\tgrey\n"
     ]
    }
   ],
   "source": [
    "print(\"Colours:\\twhite\\tgreen\\tred\\tgrey\")"
   ]
  },
  {
   "cell_type": "markdown",
   "id": "444c06ba",
   "metadata": {},
   "source": [
    "> Print a new line\n",
    "<mark>\\n</mark>"
   ]
  },
  {
   "cell_type": "code",
   "execution_count": 56,
   "id": "97e0be1b",
   "metadata": {},
   "outputs": [
    {
     "name": "stdout",
     "output_type": "stream",
     "text": [
      "Colours:\n",
      "white\n",
      "green\n",
      "red\n",
      "grey\n"
     ]
    }
   ],
   "source": [
    "print(\"Colours:\\nwhite\\ngreen\\nred\\ngrey\")"
   ]
  },
  {
   "cell_type": "markdown",
   "id": "1fe9656c",
   "metadata": {},
   "source": [
    "####  Docstrings"
   ]
  },
  {
   "cell_type": "code",
   "execution_count": 54,
   "id": "e5bf1691",
   "metadata": {},
   "outputs": [
    {
     "name": "stdout",
     "output_type": "stream",
     "text": [
      "Python is a high-level, general-purpose programming language. Its design philosophy emphasizes code readability with the use of significant indentation. Python is dynamically-typed and garbage-collected. It supports multiple programming paradigms, including structured, object-oriented and functional programming.\n"
     ]
    }
   ],
   "source": [
    "# Reference: Wikipedia Python (programming language)\n",
    "\n",
    "Introduction = \"\"\"Python is a high-level, general-purpose programming language. Its design philosophy emphasizes code readability with the use of significant indentation. Python is dynamically-typed and garbage-collected. It supports multiple programming paradigms, including structured, object-oriented and functional programming.\"\"\"\n",
    "\n",
    "print(Introduction)"
   ]
  },
  {
   "cell_type": "markdown",
   "id": "ebf9fa5d",
   "metadata": {},
   "source": [
    "### User input"
   ]
  },
  {
   "cell_type": "markdown",
   "id": "adea9a6a",
   "metadata": {},
   "source": [
    "#### Input name"
   ]
  },
  {
   "cell_type": "code",
   "execution_count": 39,
   "id": "3c21f565",
   "metadata": {},
   "outputs": [
    {
     "name": "stdout",
     "output_type": "stream",
     "text": [
      "Enter your name: Python\n",
      "Python\n"
     ]
    }
   ],
   "source": [
    "name = input(\"Enter your name: \")\n",
    "print(name)"
   ]
  },
  {
   "cell_type": "markdown",
   "id": "6e611c41",
   "metadata": {},
   "source": [
    "#### Input integer"
   ]
  },
  {
   "cell_type": "code",
   "execution_count": 37,
   "id": "18cbb1fa",
   "metadata": {},
   "outputs": [
    {
     "name": "stdout",
     "output_type": "stream",
     "text": [
      "Enter number: 22\n",
      "22\n"
     ]
    }
   ],
   "source": [
    "number = input(\"Enter number: \")\n",
    "number = int(number)\n",
    "\n",
    "print(number)"
   ]
  },
  {
   "cell_type": "markdown",
   "id": "121c7f7c",
   "metadata": {},
   "source": [
    "#### Input float"
   ]
  },
  {
   "cell_type": "code",
   "execution_count": 36,
   "id": "35dd5c69",
   "metadata": {},
   "outputs": [
    {
     "name": "stdout",
     "output_type": "stream",
     "text": [
      "Enter number: 2.2\n",
      "2.2\n"
     ]
    }
   ],
   "source": [
    "number = input(\"Enter number: \")\n",
    "number = float(number)\n",
    "\n",
    "print(number)"
   ]
  },
  {
   "cell_type": "markdown",
   "id": "717e942e",
   "metadata": {},
   "source": [
    "#### User input text in sentence"
   ]
  },
  {
   "cell_type": "code",
   "execution_count": 33,
   "id": "c89ec404",
   "metadata": {},
   "outputs": [
    {
     "name": "stdout",
     "output_type": "stream",
     "text": [
      "What is your name?\n",
      "Enter your name: Mario\n",
      "Hello, your name is Mario!\n"
     ]
    }
   ],
   "source": [
    "print(\"What is your name?\")\n",
    "name = input(\"Enter your name: \")\n",
    "print(\"Hello, your name is \" + name + \"!\")"
   ]
  },
  {
   "cell_type": "markdown",
   "id": "28d7a4d7",
   "metadata": {},
   "source": [
    "#### User input number in sentence"
   ]
  },
  {
   "cell_type": "code",
   "execution_count": 32,
   "id": "bf2a65fc",
   "metadata": {},
   "outputs": [
    {
     "name": "stdout",
     "output_type": "stream",
     "text": [
      "What is your age?\n",
      "Enter your age: 42\n",
      "Hello,Mario you are 42 years old.\n"
     ]
    }
   ],
   "source": [
    "print(\"What is your age?\")\n",
    "age = input(\"Enter your age: \")\n",
    "print(\"Hello,\" + name + \" you are \" + age + \" years old.\")"
   ]
  },
  {
   "cell_type": "markdown",
   "id": "692da50c",
   "metadata": {},
   "source": [
    "### Variable & Data Types"
   ]
  },
  {
   "cell_type": "markdown",
   "id": "ff287068",
   "metadata": {},
   "source": [
    "#### Common data types\n",
    "\n",
    "- Integer\n",
    "- float\n",
    "- string"
   ]
  },
  {
   "cell_type": "code",
   "execution_count": 1,
   "id": "53188186",
   "metadata": {},
   "outputs": [
    {
     "name": "stdout",
     "output_type": "stream",
     "text": [
      "<class 'str'>\n"
     ]
    }
   ],
   "source": [
    "# string\n",
    "x = \"hello world\"\n",
    "print(type(x))"
   ]
  },
  {
   "cell_type": "code",
   "execution_count": 2,
   "id": "13a4ecdb",
   "metadata": {},
   "outputs": [
    {
     "name": "stdout",
     "output_type": "stream",
     "text": [
      "<class 'int'>\n"
     ]
    }
   ],
   "source": [
    "# integer\n",
    "x = 100\n",
    "print(type(x))"
   ]
  },
  {
   "cell_type": "code",
   "execution_count": 3,
   "id": "3facf346",
   "metadata": {},
   "outputs": [
    {
     "name": "stdout",
     "output_type": "stream",
     "text": [
      "<class 'float'>\n"
     ]
    }
   ],
   "source": [
    "# float\n",
    "x = 9.9\n",
    "print(type(x))"
   ]
  },
  {
   "cell_type": "code",
   "execution_count": 4,
   "id": "d09b3bcc",
   "metadata": {},
   "outputs": [
    {
     "name": "stdout",
     "output_type": "stream",
     "text": [
      "<class 'list'>\n"
     ]
    }
   ],
   "source": [
    "# list\n",
    "fruits = [\"apple\", \"mango\", \"orange\", \"avocado\"]\n",
    "print(type(fruits))"
   ]
  },
  {
   "cell_type": "code",
   "execution_count": 5,
   "id": "6f75f6c4",
   "metadata": {},
   "outputs": [
    {
     "name": "stdout",
     "output_type": "stream",
     "text": [
      "<class 'dict'>\n"
     ]
    }
   ],
   "source": [
    "# dictionary\n",
    "x = {\"name\" : \"Mario\", \"age\" : 42}\n",
    "print(type(x))"
   ]
  },
  {
   "cell_type": "markdown",
   "id": "232ec77a",
   "metadata": {},
   "source": [
    "#### Concatenating strings"
   ]
  },
  {
   "cell_type": "code",
   "execution_count": 6,
   "id": "70821896",
   "metadata": {},
   "outputs": [
    {
     "name": "stdout",
     "output_type": "stream",
     "text": [
      "hello python\n"
     ]
    }
   ],
   "source": [
    "# Print name only\n",
    "first_name = \"hello\"\n",
    "last_name = \"python\"\n",
    "full_name = first_name + \" \" + last_name\n",
    "print(full_name)"
   ]
  },
  {
   "cell_type": "code",
   "execution_count": 7,
   "id": "b08d3ae6",
   "metadata": {},
   "outputs": [
    {
     "name": "stdout",
     "output_type": "stream",
     "text": [
      "My name is hello python age is 100 years old.\n"
     ]
    }
   ],
   "source": [
    "# Print name in setence\n",
    "name = \"hello python\"\n",
    "age = \"100\"\n",
    "\n",
    "print(\"My name is \" + name + \" age is \" + age + \" years old.\")"
   ]
  },
  {
   "cell_type": "markdown",
   "id": "42ee8381",
   "metadata": {},
   "source": [
    "#### Replace text\n",
    "\n",
    "- string.replace(old, new)"
   ]
  },
  {
   "cell_type": "code",
   "execution_count": 8,
   "id": "f540b660",
   "metadata": {},
   "outputs": [
    {
     "name": "stdout",
     "output_type": "stream",
     "text": [
      "Python Basics\n"
     ]
    }
   ],
   "source": [
    "# Replace language with basics\n",
    "code = \"Python Language\"\n",
    "print(code.replace(\"Language\", \"Basics\"))"
   ]
  },
  {
   "cell_type": "code",
   "execution_count": 61,
   "id": "545372a7",
   "metadata": {},
   "outputs": [
    {
     "name": "stdout",
     "output_type": "stream",
     "text": [
      "apple, avocado, pear, berries\n"
     ]
    }
   ],
   "source": [
    "# Replace item within list\n",
    "list = \"apple, orange, pear, berries\"\n",
    "\n",
    "# Replace orange with avocado\n",
    "print(list.replace('orange','avocado'))"
   ]
  },
  {
   "cell_type": "markdown",
   "id": "16041d17",
   "metadata": {},
   "source": [
    "#### Title case"
   ]
  },
  {
   "cell_type": "code",
   "execution_count": 9,
   "id": "7c39063e",
   "metadata": {},
   "outputs": [
    {
     "name": "stdout",
     "output_type": "stream",
     "text": [
      "Learn Python\n"
     ]
    }
   ],
   "source": [
    "# Change to uppercase\n",
    "x = \"learn python\"\n",
    "print(x.title())"
   ]
  },
  {
   "cell_type": "markdown",
   "id": "e9da44c6",
   "metadata": {},
   "source": [
    "#### Upper case"
   ]
  },
  {
   "cell_type": "code",
   "execution_count": 10,
   "id": "ae297ba4",
   "metadata": {},
   "outputs": [
    {
     "name": "stdout",
     "output_type": "stream",
     "text": [
      "JAVA\n"
     ]
    }
   ],
   "source": [
    "x = \"java\"\n",
    "print(x.upper())"
   ]
  },
  {
   "cell_type": "markdown",
   "id": "b976672f",
   "metadata": {},
   "source": [
    "#### Lower case"
   ]
  },
  {
   "cell_type": "code",
   "execution_count": 11,
   "id": "816c17dd",
   "metadata": {},
   "outputs": [
    {
     "name": "stdout",
     "output_type": "stream",
     "text": [
      "html\n"
     ]
    }
   ],
   "source": [
    "x = \"Html\"\n",
    "print(x.lower())"
   ]
  },
  {
   "cell_type": "markdown",
   "id": "66013d70",
   "metadata": {},
   "source": [
    "#### Convert str to int"
   ]
  },
  {
   "cell_type": "code",
   "execution_count": 12,
   "id": "b7b6176a",
   "metadata": {},
   "outputs": [
    {
     "name": "stdout",
     "output_type": "stream",
     "text": [
      "2\n"
     ]
    }
   ],
   "source": [
    "# integer\n",
    "x = \"2.9\"\n",
    "print(int(2.9))"
   ]
  },
  {
   "cell_type": "markdown",
   "id": "6d3237e3",
   "metadata": {},
   "source": [
    "#### String index position"
   ]
  },
  {
   "cell_type": "code",
   "execution_count": 13,
   "id": "79f9fe3b",
   "metadata": {},
   "outputs": [
    {
     "name": "stdout",
     "output_type": "stream",
     "text": [
      "10\n"
     ]
    }
   ],
   "source": [
    "# Find position of letter 'g'\n",
    "fruits = \"Python Language\"\n",
    "print(fruits.index(\"g\"))"
   ]
  },
  {
   "cell_type": "markdown",
   "id": "c0471b32",
   "metadata": {},
   "source": [
    "## Python quick guide"
   ]
  },
  {
   "cell_type": "markdown",
   "id": "a0ca72ab",
   "metadata": {},
   "source": [
    "### List"
   ]
  },
  {
   "cell_type": "code",
   "execution_count": 14,
   "id": "8d79eb3d",
   "metadata": {},
   "outputs": [
    {
     "name": "stdout",
     "output_type": "stream",
     "text": [
      "['apple', 'berries', 'mango', 'orange', 'avocado']\n"
     ]
    }
   ],
   "source": [
    "fruits = [\"apple\", \"berries\", \"mango\", \"orange\", \"avocado\"]\n",
    "print(fruits)"
   ]
  },
  {
   "cell_type": "markdown",
   "id": "c3735783",
   "metadata": {},
   "source": [
    "### Access elements in a list by index"
   ]
  },
  {
   "cell_type": "code",
   "execution_count": 15,
   "id": "193ab8aa",
   "metadata": {},
   "outputs": [
    {
     "name": "stdout",
     "output_type": "stream",
     "text": [
      "avocado\n"
     ]
    }
   ],
   "source": [
    "# find fruit index 4 position\n",
    "fruits = [\"apple\", \"berries\", \"mango\", \"orange\", \"avocado\"]\n",
    "print(fruits[4])"
   ]
  },
  {
   "cell_type": "markdown",
   "id": "71629091",
   "metadata": {},
   "source": [
    "### Replace item within index position"
   ]
  },
  {
   "cell_type": "code",
   "execution_count": 16,
   "id": "e77d8395",
   "metadata": {},
   "outputs": [
    {
     "name": "stdout",
     "output_type": "stream",
     "text": [
      "['apple', 'berries', 'dragonfruit', 'orange', 'avocado']\n"
     ]
    }
   ],
   "source": [
    "# replace mango with drangofruit\n",
    "fruits = [\"apple\", \"berries\", \"mango\", \"orange\", \"avocado\"]\n",
    "fruits[2] = \"dragonfruit\"\n",
    "print(fruits)"
   ]
  },
  {
   "cell_type": "markdown",
   "id": "e13db04a",
   "metadata": {},
   "source": [
    "### Add elements to a list"
   ]
  },
  {
   "cell_type": "markdown",
   "id": "c864f904",
   "metadata": {},
   "source": [
    "> Append"
   ]
  },
  {
   "cell_type": "code",
   "execution_count": 17,
   "id": "7617e8dd",
   "metadata": {},
   "outputs": [
    {
     "name": "stdout",
     "output_type": "stream",
     "text": [
      "['apple', 'berries', 'mango', 'orange', 'avocado']\n",
      "['apple', 'berries', 'mango', 'orange', 'avocado', 'durian']\n"
     ]
    }
   ],
   "source": [
    "# append to end\n",
    "fruits = [\"apple\", \"berries\", \"mango\", \"orange\", \"avocado\"]\n",
    "print(fruits)\n",
    "\n",
    "fruits.append('durian')\n",
    "print(fruits)"
   ]
  },
  {
   "cell_type": "markdown",
   "id": "4c57ddeb",
   "metadata": {},
   "source": [
    "> Insert"
   ]
  },
  {
   "cell_type": "code",
   "execution_count": 18,
   "id": "4f5f4aae",
   "metadata": {},
   "outputs": [
    {
     "name": "stdout",
     "output_type": "stream",
     "text": [
      "['apple', 'berries', 'mango', 'orange', 'avocado']\n",
      "['apple', 'berries', 'pear', 'mango', 'orange', 'avocado']\n"
     ]
    }
   ],
   "source": [
    "# insert any position\n",
    "fruits = [\"apple\", \"berries\", \"mango\", \"orange\", \"avocado\"]\n",
    "print(fruits)\n",
    "\n",
    "fruits.insert(2, 'pear')\n",
    "print(fruits)"
   ]
  },
  {
   "cell_type": "markdown",
   "id": "812054c0",
   "metadata": {},
   "source": [
    "### Remove elements to a list"
   ]
  },
  {
   "cell_type": "markdown",
   "id": "f4caf7dc",
   "metadata": {},
   "source": [
    "> delete"
   ]
  },
  {
   "cell_type": "code",
   "execution_count": 19,
   "id": "9229f4fd",
   "metadata": {},
   "outputs": [
    {
     "name": "stdout",
     "output_type": "stream",
     "text": [
      "['apple', 'berries', 'mango', 'orange', 'avocado']\n",
      "['apple', 'berries', 'mango', 'avocado']\n"
     ]
    }
   ],
   "source": [
    "# delete any position\n",
    "fruits = [\"apple\", \"berries\", \"mango\", \"orange\", \"avocado\"]\n",
    "print(fruits)\n",
    "\n",
    "del fruits[3]\n",
    "print(fruits)"
   ]
  },
  {
   "cell_type": "markdown",
   "id": "687669cc",
   "metadata": {},
   "source": [
    "> pop"
   ]
  },
  {
   "cell_type": "code",
   "execution_count": 20,
   "id": "c42f7a2b",
   "metadata": {},
   "outputs": [
    {
     "name": "stdout",
     "output_type": "stream",
     "text": [
      "['apple', 'berries', 'mango', 'orange', 'avocado']\n",
      "['apple', 'berries', 'mango', 'orange']\n",
      "avocado\n"
     ]
    }
   ],
   "source": [
    "# pop end position\n",
    "fruits = [\"apple\", \"berries\", \"mango\", \"orange\", \"avocado\"]\n",
    "print(fruits)\n",
    "\n",
    "popped_fruits = fruits.pop()\n",
    "print(fruits)\n",
    "\n",
    "print(popped_fruits)"
   ]
  },
  {
   "cell_type": "code",
   "execution_count": 21,
   "id": "e15c94a2",
   "metadata": {},
   "outputs": [
    {
     "name": "stdout",
     "output_type": "stream",
     "text": [
      "['apple', 'berries', 'mango', 'orange', 'avocado']\n",
      "['apple', 'berries', 'mango', 'avocado']\n"
     ]
    }
   ],
   "source": [
    "# pop any position\n",
    "fruits = [\"apple\", \"berries\", \"mango\", \"orange\", \"avocado\"]\n",
    "print(fruits)\n",
    "\n",
    "popped_fruits = fruits.pop(3)\n",
    "print(fruits)"
   ]
  },
  {
   "cell_type": "markdown",
   "id": "29cd8375",
   "metadata": {},
   "source": [
    "### Sort"
   ]
  },
  {
   "cell_type": "code",
   "execution_count": 22,
   "id": "aba47aa9",
   "metadata": {},
   "outputs": [
    {
     "name": "stdout",
     "output_type": "stream",
     "text": [
      "['apple', 'avocado', 'berries', 'mango', 'orange']\n"
     ]
    }
   ],
   "source": [
    "# Sort according to alphabetical order\n",
    "fruits = [\"apple\", \"berries\", \"mango\", \"orange\", \"avocado\"]\n",
    "fruits.sort()\n",
    "print(fruits)"
   ]
  },
  {
   "cell_type": "code",
   "execution_count": 23,
   "id": "e077349e",
   "metadata": {},
   "outputs": [
    {
     "name": "stdout",
     "output_type": "stream",
     "text": [
      "['orange', 'mango', 'berries', 'avocado', 'apple']\n"
     ]
    }
   ],
   "source": [
    "# sort reverse\n",
    "fruits = [\"apple\", \"berries\", \"mango\", \"orange\", \"avocado\"]\n",
    "fruits.sort(reverse = True)\n",
    "print(fruits)"
   ]
  },
  {
   "cell_type": "markdown",
   "id": "5727ee29",
   "metadata": {},
   "source": [
    "### Length"
   ]
  },
  {
   "cell_type": "code",
   "execution_count": 24,
   "id": "4b75516c",
   "metadata": {},
   "outputs": [
    {
     "name": "stdout",
     "output_type": "stream",
     "text": [
      "Enter your name: Mario\n",
      "5\n"
     ]
    }
   ],
   "source": [
    "# Input of string\n",
    "name = input(\"Enter your name: \")\n",
    "print(len(name))"
   ]
  },
  {
   "cell_type": "code",
   "execution_count": 25,
   "id": "2c625f11",
   "metadata": {},
   "outputs": [
    {
     "name": "stdout",
     "output_type": "stream",
     "text": [
      "15\n"
     ]
    }
   ],
   "source": [
    "# Hardcoded of string\n",
    "code = \"Python Language\"\n",
    "print(len(code))"
   ]
  },
  {
   "cell_type": "code",
   "execution_count": 26,
   "id": "ca991c74",
   "metadata": {},
   "outputs": [
    {
     "data": {
      "text/plain": [
       "5"
      ]
     },
     "execution_count": 26,
     "metadata": {},
     "output_type": "execute_result"
    }
   ],
   "source": [
    "# List of string\n",
    "fruits = [\"apple\", \"berries\", \"mango\", \"orange\", \"avocado\"]\n",
    "len(fruits)"
   ]
  },
  {
   "cell_type": "markdown",
   "id": "9b7c8833",
   "metadata": {},
   "source": [
    "### Index\n",
    "\n",
    "- positive indexing: characters are indexed forward from 1\n",
    "- negative indexing: characters are indexed backward from -1"
   ]
  },
  {
   "cell_type": "code",
   "execution_count": 55,
   "id": "40a50f3f",
   "metadata": {},
   "outputs": [
    {
     "name": "stdout",
     "output_type": "stream",
     "text": [
      "J\n",
      "a\n",
      "v\n",
      "a\n",
      "S\n",
      "c\n",
      "r\n",
      "i\n",
      "p\n",
      "t\n"
     ]
    }
   ],
   "source": [
    "language = \"JavaScript\"\n",
    "\n",
    "print ( language[0] )   # \"J\"\n",
    "print ( language[1] )   # \"a\"\n",
    "print ( language[2] )   # \"v\"\n",
    "print ( language[3] )   # \"a\"\n",
    "print ( language[4] )   # \"S\"\n",
    "print ( language[5] )   # \"c\"\n",
    "print ( language[6] )   # \"r\"\n",
    "print ( language[7] )   # \"i\"\n",
    "print ( language[8] )   # \"p\"\n",
    "print ( language[9] )   # \"t\""
   ]
  },
  {
   "cell_type": "markdown",
   "id": "202c4def",
   "metadata": {},
   "source": [
    "### Slice\n",
    "\n",
    "<mark> s[:i] + s[i:] = s </mark>\n",
    "\n",
    "<mark>[start:stop:stepcount]</mark> start stepcount stop\n",
    "\n",
    "<mark>[start:stop:stepcount]</mark>\n",
    "- start omitted: start the range from beginning\n",
    "- end omitted: end the range till the end\n",
    "\n",
    "reverse string <mark> s[::-1] </mark>"
   ]
  },
  {
   "cell_type": "code",
   "execution_count": 74,
   "id": "fa1eeffe",
   "metadata": {},
   "outputs": [
    {
     "name": "stdout",
     "output_type": "stream",
     "text": [
      "Python\n",
      "Pyt\n",
      "Python\n"
     ]
    }
   ],
   "source": [
    "language = \"Python\"\n",
    "\n",
    "print(language[:])\n",
    "print(language[:3])\n",
    "print(language[0:])"
   ]
  },
  {
   "cell_type": "code",
   "execution_count": 27,
   "id": "ce986f41",
   "metadata": {},
   "outputs": [
    {
     "name": "stdout",
     "output_type": "stream",
     "text": [
      "['apple', 'berries', 'mango', 'orange', 'avocado']\n",
      "['apple', 'berries', 'mango']\n",
      "['apple', 'berries', 'mango', 'orange', 'avocado']\n"
     ]
    }
   ],
   "source": [
    "fruits = [\"apple\", \"berries\", \"mango\", \"orange\", \"avocado\"]\n",
    "print(fruits)\n",
    "\n",
    "# start at beginning till index position 2\n",
    "print(fruits[:3])\n",
    "\n",
    "['apple', 'berries', 'mango']"
   ]
  },
  {
   "cell_type": "code",
   "execution_count": 28,
   "id": "e0f66890",
   "metadata": {},
   "outputs": [
    {
     "name": "stdout",
     "output_type": "stream",
     "text": [
      "['apple', 'berries', 'mango', 'orange', 'avocado']\n",
      "['orange', 'avocado']\n"
     ]
    }
   ],
   "source": [
    "fruits = [\"apple\", \"berries\", \"mango\", \"orange\", \"avocado\"]\n",
    "print(fruits)\n",
    "\n",
    "# start at indext position 2 till end\n",
    "print(fruits[3:])"
   ]
  },
  {
   "cell_type": "markdown",
   "id": "fd1a732e",
   "metadata": {},
   "source": [
    "### Extract"
   ]
  },
  {
   "cell_type": "code",
   "execution_count": 58,
   "id": "8a51bcde",
   "metadata": {},
   "outputs": [
    {
     "name": "stdout",
     "output_type": "stream",
     "text": [
      "acegikmoqsuwy\n"
     ]
    }
   ],
   "source": [
    "# Extract every second character\n",
    "letters = \"abcdefghijklmnopqrstuvwxyz\"\n",
    "\n",
    "print (letters[::2])"
   ]
  },
  {
   "cell_type": "code",
   "execution_count": 60,
   "id": "48d41aab",
   "metadata": {},
   "outputs": [
    {
     "name": "stdout",
     "output_type": "stream",
     "text": [
      "e h\n"
     ]
    }
   ],
   "source": [
    "# Extract 1st to last and 4th to first\n",
    "text = \"hello python\"\n",
    "\n",
    "print (text[1::4])"
   ]
  },
  {
   "cell_type": "markdown",
   "id": "0fd081b2",
   "metadata": {},
   "source": [
    "### Split"
   ]
  },
  {
   "cell_type": "code",
   "execution_count": 65,
   "id": "d291b16c",
   "metadata": {},
   "outputs": [
    {
     "name": "stdout",
     "output_type": "stream",
     "text": [
      "['Automate', 'the', 'Boring', 'Stuff', 'with', 'Python']\n"
     ]
    }
   ],
   "source": [
    "# Convert string to list\n",
    "\n",
    "title = \"Automate the Boring Stuff with Python\"\n",
    "\n",
    "print (title.split()) "
   ]
  },
  {
   "cell_type": "code",
   "execution_count": 66,
   "id": "8ae81561",
   "metadata": {},
   "outputs": [
    {
     "name": "stdout",
     "output_type": "stream",
     "text": [
      "['apple, ', ', pear, berries']\n"
     ]
    }
   ],
   "source": [
    "list = \"apple, orange, pear, berries\"\n",
    "\n",
    "print (list.split(\"orange\"))"
   ]
  },
  {
   "cell_type": "markdown",
   "id": "d0a29d87",
   "metadata": {},
   "source": [
    "### Join"
   ]
  },
  {
   "cell_type": "code",
   "execution_count": 69,
   "id": "5594dfdc",
   "metadata": {},
   "outputs": [
    {
     "name": "stdout",
     "output_type": "stream",
     "text": [
      "Red,Green,White\n"
     ]
    }
   ],
   "source": [
    "# Convert list to string with ,\n",
    "colours = [\"Red\", \"Green\", \"White\"]\n",
    "x = \",\".join(colours)\n",
    "print(x)"
   ]
  },
  {
   "cell_type": "code",
   "execution_count": 70,
   "id": "aaad025a",
   "metadata": {},
   "outputs": [
    {
     "name": "stdout",
     "output_type": "stream",
     "text": [
      "Red Green White\n"
     ]
    }
   ],
   "source": [
    "# Convert list to string no ,\n",
    "colours = [\"Red\", \"Green\", \"White\"]\n",
    "x = \" \".join(colours)\n",
    "print(x)"
   ]
  },
  {
   "cell_type": "markdown",
   "id": "a1b7dd8d",
   "metadata": {},
   "source": [
    "### Count"
   ]
  },
  {
   "cell_type": "code",
   "execution_count": 71,
   "id": "0fe0e611",
   "metadata": {},
   "outputs": [
    {
     "name": "stdout",
     "output_type": "stream",
     "text": [
      "3\n"
     ]
    }
   ],
   "source": [
    "# Count number of times green appear\n",
    "colours = (\"Red\", \"Green\", \"White\", \"Grey\", \"Green\", \"Green\")\n",
    "print(colours.count(\"Green\"))   "
   ]
  },
  {
   "cell_type": "markdown",
   "id": "2d83aae6",
   "metadata": {},
   "source": [
    "### center, ljust and rjust"
   ]
  },
  {
   "cell_type": "code",
   "execution_count": 73,
   "id": "d24b121a",
   "metadata": {},
   "outputs": [
    {
     "name": "stdout",
     "output_type": "stream",
     "text": [
      "Center aligned \n",
      "    learn python    \n",
      "\n",
      "Left aligned \n",
      "learn python        \n",
      "\n",
      "Right aligned: \n",
      "        learn python\n"
     ]
    }
   ],
   "source": [
    "text = \"learn python\"\n",
    "\n",
    "# Print center\n",
    "print(\"Center aligned \")\n",
    "print(text.center(20))\n",
    "\n",
    "print()\n",
    "\n",
    "# Print left\n",
    "print(\"Left aligned \")\n",
    "print(text.ljust(20))\n",
    "\n",
    "print()\n",
    "\n",
    "# Print right\n",
    "print(\"Right aligned: \")\n",
    "print(text.rjust(20))"
   ]
  },
  {
   "cell_type": "markdown",
   "id": "0e13fc24",
   "metadata": {},
   "source": [
    "### Dictionaries"
   ]
  },
  {
   "cell_type": "code",
   "execution_count": 29,
   "id": "8b76e44f",
   "metadata": {},
   "outputs": [
    {
     "data": {
      "text/plain": [
       "{'Alpha': 10, 'Beta': 12, 'gamma': 9, 'delta': 8}"
      ]
     },
     "execution_count": 29,
     "metadata": {},
     "output_type": "execute_result"
    }
   ],
   "source": [
    "### Create a dictionary\n",
    "\n",
    "    # dictionary = {keys:values}\n",
    "    # dictionary = {\"a\" : 1, \"b\": 2}\n",
    "\n",
    "class_list = {'Alpha': 10, \n",
    "              'Beta': 12,\n",
    "              'gamma': 9,\n",
    "              'delta' : 8}\n",
    "class_list"
   ]
  },
  {
   "cell_type": "code",
   "execution_count": 30,
   "id": "868e82c9",
   "metadata": {},
   "outputs": [
    {
     "data": {
      "text/plain": [
       "9"
      ]
     },
     "execution_count": 30,
     "metadata": {},
     "output_type": "execute_result"
    }
   ],
   "source": [
    "# find gamma age\n",
    "class_list['gamma']"
   ]
  }
 ],
 "metadata": {
  "kernelspec": {
   "display_name": "Python 3 (ipykernel)",
   "language": "python",
   "name": "python3"
  },
  "language_info": {
   "codemirror_mode": {
    "name": "ipython",
    "version": 3
   },
   "file_extension": ".py",
   "mimetype": "text/x-python",
   "name": "python",
   "nbconvert_exporter": "python",
   "pygments_lexer": "ipython3",
   "version": "3.9.13"
  }
 },
 "nbformat": 4,
 "nbformat_minor": 5
}

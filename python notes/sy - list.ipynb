{
 "cells": [
  {
   "cell_type": "markdown",
   "id": "025c0fbd",
   "metadata": {},
   "source": [
    "### Create empty list"
   ]
  },
  {
   "cell_type": "code",
   "execution_count": 7,
   "id": "bff45445",
   "metadata": {},
   "outputs": [
    {
     "name": "stdout",
     "output_type": "stream",
     "text": [
      "[]\n",
      "\n",
      "[]\n"
     ]
    }
   ],
   "source": [
    "# Method 1\n",
    "new_list = []\n",
    "print(new_list)\n",
    "\n",
    "print()\n",
    "\n",
    "# Method 2\n",
    "empty_list = list()\n",
    "print(empty_list)"
   ]
  },
  {
   "cell_type": "markdown",
   "id": "6d0bde37",
   "metadata": {},
   "source": [
    "### Add items in list"
   ]
  },
  {
   "cell_type": "code",
   "execution_count": 14,
   "id": "8d79eb3d",
   "metadata": {},
   "outputs": [
    {
     "name": "stdout",
     "output_type": "stream",
     "text": [
      "['apple', 'berries', 'mango', 'orange', 'avocado']\n"
     ]
    }
   ],
   "source": [
    "fruits = [\"apple\", \"berries\", \"mango\", \"orange\", \"avocado\"]\n",
    "print(fruits)"
   ]
  },
  {
   "cell_type": "markdown",
   "id": "c3735783",
   "metadata": {},
   "source": [
    "### Access elements in a list by index"
   ]
  },
  {
   "cell_type": "code",
   "execution_count": 15,
   "id": "193ab8aa",
   "metadata": {},
   "outputs": [
    {
     "name": "stdout",
     "output_type": "stream",
     "text": [
      "avocado\n"
     ]
    }
   ],
   "source": [
    "# find fruit index 4 position\n",
    "fruits = [\"apple\", \"berries\", \"mango\", \"orange\", \"avocado\"]\n",
    "print(fruits[4])"
   ]
  },
  {
   "cell_type": "markdown",
   "id": "71629091",
   "metadata": {},
   "source": [
    "### Replace item within index position"
   ]
  },
  {
   "cell_type": "code",
   "execution_count": 16,
   "id": "e77d8395",
   "metadata": {},
   "outputs": [
    {
     "name": "stdout",
     "output_type": "stream",
     "text": [
      "['apple', 'berries', 'dragonfruit', 'orange', 'avocado']\n"
     ]
    }
   ],
   "source": [
    "# replace mango with drangofruit\n",
    "fruits = [\"apple\", \"berries\", \"mango\", \"orange\", \"avocado\"]\n",
    "fruits[2] = \"dragonfruit\"\n",
    "print(fruits)"
   ]
  },
  {
   "cell_type": "markdown",
   "id": "9d84262c",
   "metadata": {},
   "source": [
    "### Add elements to a list"
   ]
  },
  {
   "cell_type": "markdown",
   "id": "34e02aad",
   "metadata": {},
   "source": [
    "> Append"
   ]
  },
  {
   "cell_type": "code",
   "execution_count": 8,
   "id": "23dba162",
   "metadata": {},
   "outputs": [
    {
     "name": "stdout",
     "output_type": "stream",
     "text": [
      "['apple', 'berries', 'mango', 'orange', 'avocado']\n",
      "['apple', 'berries', 'mango', 'orange', 'avocado', 'durian']\n"
     ]
    }
   ],
   "source": [
    "# append to end\n",
    "fruits = [\"apple\", \"berries\", \"mango\", \"orange\", \"avocado\"]\n",
    "print(fruits)\n",
    "\n",
    "fruits.append('durian')\n",
    "print(fruits)"
   ]
  },
  {
   "cell_type": "markdown",
   "id": "fabf474f",
   "metadata": {},
   "source": [
    "> Insert"
   ]
  },
  {
   "cell_type": "code",
   "execution_count": 9,
   "id": "067f3eb2",
   "metadata": {},
   "outputs": [
    {
     "name": "stdout",
     "output_type": "stream",
     "text": [
      "['apple', 'berries', 'mango', 'orange', 'avocado']\n",
      "['apple', 'berries', 'pear', 'mango', 'orange', 'avocado']\n"
     ]
    }
   ],
   "source": [
    "# insert any position\n",
    "fruits = [\"apple\", \"berries\", \"mango\", \"orange\", \"avocado\"]\n",
    "print(fruits)\n",
    "\n",
    "fruits.insert(2, 'pear')\n",
    "print(fruits)"
   ]
  },
  {
   "cell_type": "markdown",
   "id": "24c787ce",
   "metadata": {},
   "source": [
    "### Remove elements to a list"
   ]
  },
  {
   "cell_type": "markdown",
   "id": "d33a56d2",
   "metadata": {},
   "source": [
    "> delete"
   ]
  },
  {
   "cell_type": "code",
   "execution_count": 10,
   "id": "03c92ef5",
   "metadata": {},
   "outputs": [
    {
     "name": "stdout",
     "output_type": "stream",
     "text": [
      "['apple', 'berries', 'mango', 'orange', 'avocado']\n",
      "['apple', 'berries', 'mango', 'avocado']\n"
     ]
    }
   ],
   "source": [
    "# delete any position\n",
    "fruits = [\"apple\", \"berries\", \"mango\", \"orange\", \"avocado\"]\n",
    "print(fruits)\n",
    "\n",
    "del fruits[3]\n",
    "print(fruits)"
   ]
  },
  {
   "cell_type": "markdown",
   "id": "d0c21c97",
   "metadata": {},
   "source": [
    "> pop"
   ]
  },
  {
   "cell_type": "code",
   "execution_count": 11,
   "id": "c42f7a2b",
   "metadata": {},
   "outputs": [
    {
     "name": "stdout",
     "output_type": "stream",
     "text": [
      "['apple', 'berries', 'mango', 'orange', 'avocado']\n",
      "['apple', 'berries', 'mango', 'orange']\n",
      "avocado\n"
     ]
    }
   ],
   "source": [
    "# pop end position\n",
    "fruits = [\"apple\", \"berries\", \"mango\", \"orange\", \"avocado\"]\n",
    "print(fruits)\n",
    "\n",
    "popped_fruits = fruits.pop()\n",
    "print(fruits)\n",
    "\n",
    "print(popped_fruits)"
   ]
  },
  {
   "cell_type": "code",
   "execution_count": 12,
   "id": "e15c94a2",
   "metadata": {},
   "outputs": [
    {
     "name": "stdout",
     "output_type": "stream",
     "text": [
      "['apple', 'berries', 'mango', 'orange', 'avocado']\n",
      "['apple', 'berries', 'mango', 'avocado']\n"
     ]
    }
   ],
   "source": [
    "# pop any position\n",
    "fruits = [\"apple\", \"berries\", \"mango\", \"orange\", \"avocado\"]\n",
    "print(fruits)\n",
    "\n",
    "popped_fruits = fruits.pop(3)\n",
    "print(fruits)"
   ]
  },
  {
   "cell_type": "markdown",
   "id": "a2f9b593",
   "metadata": {},
   "source": [
    "### Sort"
   ]
  },
  {
   "cell_type": "code",
   "execution_count": 13,
   "id": "88650799",
   "metadata": {},
   "outputs": [
    {
     "name": "stdout",
     "output_type": "stream",
     "text": [
      "['apple', 'avocado', 'berries', 'mango', 'orange']\n"
     ]
    }
   ],
   "source": [
    "# Sort according to alphabetical order\n",
    "fruits = [\"apple\", \"berries\", \"mango\", \"orange\", \"avocado\"]\n",
    "fruits.sort()\n",
    "print(fruits)"
   ]
  },
  {
   "cell_type": "code",
   "execution_count": 14,
   "id": "6bcf420a",
   "metadata": {},
   "outputs": [
    {
     "name": "stdout",
     "output_type": "stream",
     "text": [
      "['orange', 'mango', 'berries', 'avocado', 'apple']\n"
     ]
    }
   ],
   "source": [
    "# Sort reverse\n",
    "fruits = [\"apple\", \"berries\", \"mango\", \"orange\", \"avocado\"]\n",
    "fruits.sort(reverse = True)\n",
    "print(fruits)"
   ]
  },
  {
   "cell_type": "markdown",
   "id": "9b7c8833",
   "metadata": {},
   "source": [
    "### Index\n",
    "\n",
    "- positive indexing: characters are indexed forward from 1\n",
    "- negative indexing: characters are indexed backward from -1"
   ]
  },
  {
   "cell_type": "code",
   "execution_count": 15,
   "id": "40a50f3f",
   "metadata": {},
   "outputs": [
    {
     "name": "stdout",
     "output_type": "stream",
     "text": [
      "J\n",
      "a\n",
      "v\n",
      "a\n",
      "S\n",
      "c\n",
      "r\n",
      "i\n",
      "p\n",
      "t\n"
     ]
    }
   ],
   "source": [
    "language = \"JavaScript\"\n",
    "\n",
    "print ( language[0] )   # \"J\"\n",
    "print ( language[1] )   # \"a\"\n",
    "print ( language[2] )   # \"v\"\n",
    "print ( language[3] )   # \"a\"\n",
    "print ( language[4] )   # \"S\"\n",
    "print ( language[5] )   # \"c\"\n",
    "print ( language[6] )   # \"r\"\n",
    "print ( language[7] )   # \"i\"\n",
    "print ( language[8] )   # \"p\"\n",
    "print ( language[9] )   # \"t\""
   ]
  },
  {
   "cell_type": "markdown",
   "id": "202c4def",
   "metadata": {},
   "source": [
    "### Slice\n",
    "\n",
    "<mark> s[:i] + s[i:] = s </mark>\n",
    "\n",
    "<mark>[start:stop:stepcount]</mark> start stepcount stop\n",
    "\n",
    "<mark>[start:stop:stepcount]</mark>\n",
    "- start omitted: start the range from beginning\n",
    "- end omitted: end the range till the end\n",
    "\n",
    "reverse string <mark> s[::-1] </mark>"
   ]
  },
  {
   "cell_type": "code",
   "execution_count": 16,
   "id": "fa1eeffe",
   "metadata": {},
   "outputs": [
    {
     "name": "stdout",
     "output_type": "stream",
     "text": [
      "Python\n",
      "Pyt\n",
      "Python\n"
     ]
    }
   ],
   "source": [
    "language = \"Python\"\n",
    "\n",
    "print(language[:])\n",
    "print(language[:3])\n",
    "print(language[0:])"
   ]
  },
  {
   "cell_type": "code",
   "execution_count": 17,
   "id": "ce986f41",
   "metadata": {},
   "outputs": [
    {
     "name": "stdout",
     "output_type": "stream",
     "text": [
      "['apple', 'berries', 'mango', 'orange', 'avocado']\n",
      "['apple', 'berries', 'mango']\n"
     ]
    },
    {
     "data": {
      "text/plain": [
       "['apple', 'berries', 'mango']"
      ]
     },
     "execution_count": 17,
     "metadata": {},
     "output_type": "execute_result"
    }
   ],
   "source": [
    "fruits = [\"apple\", \"berries\", \"mango\", \"orange\", \"avocado\"]\n",
    "print(fruits)\n",
    "\n",
    "# start at beginning till index position 2\n",
    "print(fruits[:3])\n",
    "\n",
    "['apple', 'berries', 'mango']"
   ]
  },
  {
   "cell_type": "code",
   "execution_count": 18,
   "id": "e0f66890",
   "metadata": {},
   "outputs": [
    {
     "name": "stdout",
     "output_type": "stream",
     "text": [
      "['apple', 'berries', 'mango', 'orange', 'avocado']\n",
      "['orange', 'avocado']\n"
     ]
    }
   ],
   "source": [
    "fruits = [\"apple\", \"berries\", \"mango\", \"orange\", \"avocado\"]\n",
    "print(fruits)\n",
    "\n",
    "# start at indext position 2 till end\n",
    "print(fruits[3:])"
   ]
  },
  {
   "cell_type": "markdown",
   "id": "0fd081b2",
   "metadata": {},
   "source": [
    "### Split"
   ]
  },
  {
   "cell_type": "code",
   "execution_count": 19,
   "id": "d291b16c",
   "metadata": {},
   "outputs": [
    {
     "name": "stdout",
     "output_type": "stream",
     "text": [
      "['Automate', 'the', 'Boring', 'Stuff', 'with', 'Python']\n"
     ]
    }
   ],
   "source": [
    "# Convert string to list\n",
    "\n",
    "title = \"Automate the Boring Stuff with Python\"\n",
    "\n",
    "print (title.split()) "
   ]
  },
  {
   "cell_type": "code",
   "execution_count": 20,
   "id": "8ae81561",
   "metadata": {},
   "outputs": [
    {
     "name": "stdout",
     "output_type": "stream",
     "text": [
      "['apple, ', ', pear, berries']\n"
     ]
    }
   ],
   "source": [
    "list = \"apple, orange, pear, berries\"\n",
    "\n",
    "print (list.split(\"orange\"))"
   ]
  },
  {
   "cell_type": "markdown",
   "id": "d0a29d87",
   "metadata": {},
   "source": [
    "### Join"
   ]
  },
  {
   "cell_type": "code",
   "execution_count": 21,
   "id": "5594dfdc",
   "metadata": {},
   "outputs": [
    {
     "name": "stdout",
     "output_type": "stream",
     "text": [
      "Red,Green,White\n"
     ]
    }
   ],
   "source": [
    "# Convert list to string with ,\n",
    "colours = [\"Red\", \"Green\", \"White\"]\n",
    "x = \",\".join(colours)\n",
    "print(x)"
   ]
  },
  {
   "cell_type": "code",
   "execution_count": 22,
   "id": "aaad025a",
   "metadata": {},
   "outputs": [
    {
     "name": "stdout",
     "output_type": "stream",
     "text": [
      "Red Green White\n"
     ]
    }
   ],
   "source": [
    "# Convert list to string no ,\n",
    "colours = [\"Red\", \"Green\", \"White\"]\n",
    "x = \" \".join(colours)\n",
    "print(x)"
   ]
  },
  {
   "cell_type": "markdown",
   "id": "a1b7dd8d",
   "metadata": {},
   "source": [
    "### Count"
   ]
  },
  {
   "cell_type": "code",
   "execution_count": 23,
   "id": "0fe0e611",
   "metadata": {},
   "outputs": [
    {
     "name": "stdout",
     "output_type": "stream",
     "text": [
      "3\n"
     ]
    }
   ],
   "source": [
    "# Count number of times green appear\n",
    "colours = (\"Red\", \"Green\", \"White\", \"Grey\", \"Green\", \"Green\")\n",
    "print(colours.count(\"Green\"))   "
   ]
  }
 ],
 "metadata": {
  "kernelspec": {
   "display_name": "Python 3 (ipykernel)",
   "language": "python",
   "name": "python3"
  },
  "language_info": {
   "codemirror_mode": {
    "name": "ipython",
    "version": 3
   },
   "file_extension": ".py",
   "mimetype": "text/x-python",
   "name": "python",
   "nbconvert_exporter": "python",
   "pygments_lexer": "ipython3",
   "version": "3.9.13"
  }
 },
 "nbformat": 4,
 "nbformat_minor": 5
}

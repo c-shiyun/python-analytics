{
 "cells": [
  {
   "cell_type": "markdown",
   "id": "1d40bded",
   "metadata": {},
   "source": [
    "## if else"
   ]
  },
  {
   "cell_type": "markdown",
   "id": "0477a9bd",
   "metadata": {},
   "source": [
    "### Input and compare strings"
   ]
  },
  {
   "cell_type": "code",
   "execution_count": 1,
   "id": "a96776d3",
   "metadata": {},
   "outputs": [
    {
     "name": "stdout",
     "output_type": "stream",
     "text": [
      "Please select your choice of fruit: avocado\n",
      "You have earned 5 points for selecting avocado.\n"
     ]
    }
   ],
   "source": [
    "healthy_fruit = \"avocado\"\n",
    "\n",
    "# prompt user input \n",
    "order_fruit = input(\"Please select your choice of fruit: \")\n",
    "\n",
    "# compare strings \n",
    "if order_fruit == healthy_fruit:\n",
    "    print(f\"You have earned 5 points for selecting {order_fruit}.\")\n",
    "else:\n",
    "    print(f\"No points earned, you may re-select the fruit.\")"
   ]
  },
  {
   "cell_type": "code",
   "execution_count": 2,
   "id": "66715d03",
   "metadata": {},
   "outputs": [
    {
     "name": "stdout",
     "output_type": "stream",
     "text": [
      "Order veggies and fruits: Burger\n",
      "Others, Burger you have ordered non-veggies and non-fruits which are not found in the list.\n"
     ]
    }
   ],
   "source": [
    "# Set {}\n",
    "\n",
    "veggiesfruit = input(\"Order veggies and fruits: \")\n",
    "\n",
    "if veggiesfruit in {\"Apple\", \"Orange\", \"Mango\", \"Pear\", \"Berries\"}:\n",
    "    print(f\"You have ordered, {veggiesfruit}!\")\n",
    "\n",
    "elif veggiesfruit in {\"Tomato\", \"Carrot\", \"Corn\"}:\n",
    "    print(f\"You have ordered, {veggiesfruit} veggies.\")\n",
    "\n",
    "elif veggiesfruit in {\"Pumpkin\", \"Potato\", \"Sweet potato\"}:\n",
    "    pass\n",
    "\n",
    "else:\n",
    "    print(f\"Others, {veggiesfruit} you have ordered non-veggies and non-fruits which are not found in the list.\")"
   ]
  },
  {
   "cell_type": "markdown",
   "id": "e0c74bb0",
   "metadata": {},
   "source": [
    "## if else elif"
   ]
  },
  {
   "cell_type": "markdown",
   "id": "13c4cb6e",
   "metadata": {},
   "source": [
    "### Input and compare intergers"
   ]
  },
  {
   "cell_type": "code",
   "execution_count": 3,
   "id": "b9969ae5",
   "metadata": {},
   "outputs": [
    {
     "name": "stdout",
     "output_type": "stream",
     "text": [
      "Beverage sugar content: 9\n",
      "Beverage nutri-grade is C grams.\n"
     ]
    }
   ],
   "source": [
    "sugar_level = float(input(\"Beverage sugar content: \"))\n",
    "\n",
    "if sugar_level <=1: # <=1 and no sweetener\n",
    "    grade = \"A\"\n",
    "elif sugar_level<=5: # >1 to 5\n",
    "    grade = \"B\"\n",
    "elif sugar_level<=10: # >5 to 10\n",
    "    grade = \"C\"\n",
    "else:\n",
    "    grade = \"D\" # >10\n",
    " \n",
    "print(f\"Beverage nutri-grade is {grade} grams.\")"
   ]
  },
  {
   "cell_type": "code",
   "execution_count": 4,
   "id": "73ae464c",
   "metadata": {},
   "outputs": [
    {
     "name": "stdout",
     "output_type": "stream",
     "text": [
      "Beverage sugar content: 12\n",
      "Beverage nutri-grade is Non-Graded grams.\n",
      "Beverage nutri-grade is NA grams.\n"
     ]
    }
   ],
   "source": [
    "sugar_level = float(input(\"Beverage sugar content: \"))\n",
    "\n",
    "if sugar_level <= 10: \n",
    "    status = \"Graded\"\n",
    "    if sugar_level <=1: # <=1 and no sweetener\n",
    "        grade = \"A\"\n",
    "    elif sugar_level<=5: # >1 to 5\n",
    "        grade = \"B\"\n",
    "    elif sugar_level<=10: # >5 to 10\n",
    "        grade = \"C\"\n",
    "    else:\n",
    "        grade = \"D\" # >10\n",
    "        \n",
    "else:\n",
    "    status = \"Non-Graded\"\n",
    "    grade = \"NA\"\n",
    "\n",
    "print(f\"Beverage nutri-grade is {status} grams.\")\n",
    "print(f\"Beverage nutri-grade is {grade} grams.\")"
   ]
  },
  {
   "cell_type": "markdown",
   "id": "59b4b09c",
   "metadata": {},
   "source": [
    "### Multiple conditions"
   ]
  },
  {
   "cell_type": "markdown",
   "id": "3d2a21ae",
   "metadata": {},
   "source": [
    "> weight >= 18.9 and weight <= 24.9:"
   ]
  },
  {
   "cell_type": "code",
   "execution_count": 5,
   "id": "9685de01",
   "metadata": {},
   "outputs": [
    {
     "name": "stdout",
     "output_type": "stream",
     "text": [
      "Enter your weight: 50\n",
      "Obesity Class 3\n"
     ]
    }
   ],
   "source": [
    "weight = float(input(\"Enter your weight: \"))\n",
    "\n",
    "if weight < 18.5:\n",
    "    print(\"Underweight\")\n",
    "elif weight >= 18.9 and weight <= 24.9:\n",
    "    print(\"Normal weight\")\n",
    "elif weight >= 25.0 and weight <= 29.9:\n",
    "     print(\"Overweight\")\n",
    "elif weight >= 30.0 and weight <= 34.9:\n",
    "     print(\"Obesity Class 1\")\n",
    "elif weight >= 30.0 and weight <= 34.9:\n",
    "     print(\"Obesity Class 1\")\n",
    "elif weight >= 35.0 and weight <= 39.9:\n",
    "     print(\"Obesity Class 2\")      \n",
    "else:\n",
    "    print(\"Obesity Class 3\")"
   ]
  },
  {
   "cell_type": "markdown",
   "id": "ca6e509c",
   "metadata": {},
   "source": [
    "> 18.9 >= weight <= 24.9:"
   ]
  },
  {
   "cell_type": "code",
   "execution_count": 7,
   "id": "90a43ce1",
   "metadata": {},
   "outputs": [
    {
     "name": "stdout",
     "output_type": "stream",
     "text": [
      "Enter your weight: 20\n",
      "Overweight\n"
     ]
    }
   ],
   "source": [
    "weight = float(input(\"Enter your weight: \"))\n",
    "\n",
    "if weight < 18.5:\n",
    "    print(\"Underweight\")\n",
    "elif 18.9 >= weight <= 24.9:\n",
    "    print(\"Normal weight\")\n",
    "elif 25.0 >= weight <= 29.9:\n",
    "     print(\"Overweight\")\n",
    "elif 30.0 >= weight <= 34.9:\n",
    "     print(\"Obesity Class 1\")\n",
    "elif 30.0 >= weight <= 34.9:\n",
    "     print(\"Obesity Class 1\")\n",
    "elif 35.0 >= weight <= 39.9:\n",
    "     print(\"Obesity Class 2\")      \n",
    "else:\n",
    "    print(\"Obesity Class 3\")"
   ]
  }
 ],
 "metadata": {
  "kernelspec": {
   "display_name": "Python 3 (ipykernel)",
   "language": "python",
   "name": "python3"
  },
  "language_info": {
   "codemirror_mode": {
    "name": "ipython",
    "version": 3
   },
   "file_extension": ".py",
   "mimetype": "text/x-python",
   "name": "python",
   "nbconvert_exporter": "python",
   "pygments_lexer": "ipython3",
   "version": "3.9.13"
  }
 },
 "nbformat": 4,
 "nbformat_minor": 5
}

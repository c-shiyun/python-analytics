{
 "cells": [
  {
   "cell_type": "markdown",
   "id": "0e13fc24",
   "metadata": {},
   "source": [
    "### Create a dictionary"
   ]
  },
  {
   "cell_type": "code",
   "execution_count": 24,
   "id": "8b76e44f",
   "metadata": {},
   "outputs": [
    {
     "data": {
      "text/plain": [
       "{'alpha': 10, 'beta': 12, 'gamma': 9, 'delta': 8}"
      ]
     },
     "execution_count": 24,
     "metadata": {},
     "output_type": "execute_result"
    }
   ],
   "source": [
    "# dictionary = {keys:values}\n",
    "# dictionary = {\"a\" : 1, \"b\": 2}\n",
    "\n",
    "class_list = {'alpha': 10, \n",
    "              'beta': 12,\n",
    "              'gamma': 9,\n",
    "              'delta' : 8}\n",
    "class_list"
   ]
  },
  {
   "cell_type": "markdown",
   "id": "4b19e312",
   "metadata": {},
   "source": [
    "### Access dictionary key:value"
   ]
  },
  {
   "cell_type": "code",
   "execution_count": 25,
   "id": "868e82c9",
   "metadata": {},
   "outputs": [
    {
     "data": {
      "text/plain": [
       "9"
      ]
     },
     "execution_count": 25,
     "metadata": {},
     "output_type": "execute_result"
    }
   ],
   "source": [
    "# find gamma age\n",
    "class_list['gamma']"
   ]
  },
  {
   "cell_type": "markdown",
   "id": "79658715",
   "metadata": {},
   "source": [
    "### Add dictionary key:value"
   ]
  },
  {
   "cell_type": "code",
   "execution_count": 26,
   "id": "e9207a56",
   "metadata": {},
   "outputs": [
    {
     "data": {
      "text/plain": [
       "{'alpha': 10, 'beta': 12, 'gamma': 9, 'delta': 8, 'newlist': 99}"
      ]
     },
     "execution_count": 26,
     "metadata": {},
     "output_type": "execute_result"
    }
   ],
   "source": [
    "class_list[\"newlist\"] = 99\n",
    "class_list"
   ]
  },
  {
   "cell_type": "markdown",
   "id": "54b39f0e",
   "metadata": {},
   "source": [
    "### Extract value with get"
   ]
  },
  {
   "cell_type": "code",
   "execution_count": 27,
   "id": "95399254",
   "metadata": {},
   "outputs": [
    {
     "name": "stdout",
     "output_type": "stream",
     "text": [
      "9\n"
     ]
    }
   ],
   "source": [
    "print(class_list.get(\"gamma\", 0))    "
   ]
  },
  {
   "cell_type": "markdown",
   "id": "89421435",
   "metadata": {},
   "source": [
    "### Remove key with pop"
   ]
  },
  {
   "cell_type": "code",
   "execution_count": 30,
   "id": "448e6c04",
   "metadata": {},
   "outputs": [
    {
     "name": "stdout",
     "output_type": "stream",
     "text": [
      "{'alpha': 10, 'beta': 12, 'delta': 8, 'newlist': 99}\n"
     ]
    }
   ],
   "source": [
    "class_list.pop(\"gamma\", None)\n",
    "print(class_list)"
   ]
  },
  {
   "cell_type": "code",
   "execution_count": 32,
   "id": "0fb012ec",
   "metadata": {},
   "outputs": [
    {
     "name": "stdout",
     "output_type": "stream",
     "text": [
      "{'alpha': 10, 'beta': 12, 'delta': 8}\n"
     ]
    }
   ],
   "source": [
    "class_list = {'alpha': 10, \n",
    "              'beta': 12,\n",
    "              'gamma': 9,\n",
    "              'delta' : 8}\n",
    "\n",
    "del class_list[\"gamma\"]\n",
    "print(class_list)"
   ]
  }
 ],
 "metadata": {
  "kernelspec": {
   "display_name": "Python 3 (ipykernel)",
   "language": "python",
   "name": "python3"
  },
  "language_info": {
   "codemirror_mode": {
    "name": "ipython",
    "version": 3
   },
   "file_extension": ".py",
   "mimetype": "text/x-python",
   "name": "python",
   "nbconvert_exporter": "python",
   "pygments_lexer": "ipython3",
   "version": "3.9.13"
  }
 },
 "nbformat": 4,
 "nbformat_minor": 5
}

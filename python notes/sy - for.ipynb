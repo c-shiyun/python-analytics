{
 "cells": [
  {
   "cell_type": "markdown",
   "id": "918b244f",
   "metadata": {},
   "source": [
    "### For\n",
    "\n",
    "- repeating code a number of times\n",
    "- counting loop\n",
    "\n",
    "- sep=\", \"\n",
    "> print(\"x\", \"f(x)\", sep=\", \")"
   ]
  },
  {
   "cell_type": "markdown",
   "id": "f94f8d31",
   "metadata": {},
   "source": [
    "### Range - count numbers\n",
    "\n",
    "- integer only"
   ]
  },
  {
   "cell_type": "code",
   "execution_count": null,
   "id": "562ac2be",
   "metadata": {},
   "outputs": [],
   "source": [
    "# range(start, end, step)\n",
    "for i in range(1, 10, 2):\n",
    "    print(i)"
   ]
  },
  {
   "cell_type": "markdown",
   "id": "563c9816",
   "metadata": {},
   "source": [
    "### String\n",
    "\n",
    "- list[ ]\n",
    "- tuple( )\n",
    "- dictionary{ }"
   ]
  },
  {
   "cell_type": "code",
   "execution_count": null,
   "id": "3665c6b4",
   "metadata": {},
   "outputs": [],
   "source": [
    "# string in list\n",
    "fruits = [\"apple\", \"pear\", \"berries\", \"mango\", \"avocado\"]\n",
    "\n",
    "for fruit in fruits:\n",
    "    print(fruit)"
   ]
  },
  {
   "cell_type": "markdown",
   "id": "46948231",
   "metadata": {},
   "source": [
    "### text.count( ) - count letters"
   ]
  },
  {
   "cell_type": "code",
   "execution_count": 6,
   "id": "7b8343de",
   "metadata": {},
   "outputs": [
    {
     "name": "stdout",
     "output_type": "stream",
     "text": [
      "a 4;b 0;c 1;d 1;e 0;f 0;g 0;h 1;i 1;j 0;k 0;l 1;m 0;n 2;o 1;p 0;q 0;r 0;s 1;t 3;u 0;v 0;w 0;x 0;y 2;z 0;A 0;B 0;C 0;D 0;E 0;F 0;G 0;H 0;I 0;J 0;K 0;L 0;M 0;N 0;O 0;P 1;Q 0;R 0;S 0;T 0;U 0;V 0;W 0;X 0;Y 0;Z 0;"
     ]
    }
   ],
   "source": [
    "text = \"I am learning python for data analytics.\"\n",
    "\n",
    "# print each letter from the message\n",
    "for letter in \"abcdefghijklmnopqrstuvwxyzABCDEFGHIJKLMNOPQRSTUVWXYZ\":\n",
    "    print(letter, text.count(letter), end=\";\")"
   ]
  },
  {
   "cell_type": "markdown",
   "id": "0c4da9b7",
   "metadata": {},
   "source": [
    "### For ... continue"
   ]
  },
  {
   "cell_type": "code",
   "execution_count": 28,
   "id": "85a02831",
   "metadata": {},
   "outputs": [
    {
     "name": "stdout",
     "output_type": "stream",
     "text": [
      "letter: P\n",
      "letter: y\n",
      "letter: t\n",
      "letter: h\n",
      "letter: o\n",
      "letter: n\n",
      "letter:  \n",
      "letter: a\n",
      "letter: n\n",
      "letter: a\n",
      "letter: l\n",
      "letter: y\n",
      "letter: t\n",
      "letter: i\n",
      "letter: c\n",
      "letter: s\n"
     ]
    }
   ],
   "source": [
    "for letter in \"Python analytics\":\n",
    "    if letter.count == \"a\":\n",
    "        continue\n",
    "    print(\"letter:\" , letter)"
   ]
  },
  {
   "cell_type": "markdown",
   "id": "a888bece",
   "metadata": {},
   "source": [
    "### For ... break"
   ]
  },
  {
   "cell_type": "code",
   "execution_count": 27,
   "id": "8c65e3ed",
   "metadata": {},
   "outputs": [
    {
     "name": "stdout",
     "output_type": "stream",
     "text": [
      "letter: P\n",
      "letter: y\n",
      "letter: t\n",
      "letter: h\n",
      "letter: o\n",
      "letter: n\n",
      "letter:  \n"
     ]
    }
   ],
   "source": [
    "text = \"Python analytics\"\n",
    "\n",
    "for letter in text:\n",
    "    if letter == \"a\":\n",
    "        break\n",
    "    print(\"letter:\" , letter)"
   ]
  }
 ],
 "metadata": {
  "kernelspec": {
   "display_name": "Python 3 (ipykernel)",
   "language": "python",
   "name": "python3"
  },
  "language_info": {
   "codemirror_mode": {
    "name": "ipython",
    "version": 3
   },
   "file_extension": ".py",
   "mimetype": "text/x-python",
   "name": "python",
   "nbconvert_exporter": "python",
   "pygments_lexer": "ipython3",
   "version": "3.9.13"
  }
 },
 "nbformat": 4,
 "nbformat_minor": 5
}

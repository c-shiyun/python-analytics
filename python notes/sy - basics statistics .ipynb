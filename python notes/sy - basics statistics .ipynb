{
 "cells": [
  {
   "cell_type": "markdown",
   "id": "95a9d669",
   "metadata": {},
   "source": [
    "# Data types"
   ]
  },
  {
   "cell_type": "markdown",
   "id": "8f83779e",
   "metadata": {},
   "source": [
    "> Quantitative: <code> Numerical </code>"
   ]
  },
  {
   "cell_type": "markdown",
   "id": "487d5be3",
   "metadata": {},
   "source": [
    "#### (A) Continuous \n",
    "\n",
    "- float number\n",
    "\n",
    "#### (B) Discrete\n",
    "\n",
    "- whole number"
   ]
  },
  {
   "cell_type": "markdown",
   "id": "f0d31271",
   "metadata": {},
   "source": [
    "> Qualitative: <code> Categorical </code>"
   ]
  },
  {
   "cell_type": "markdown",
   "id": "43457949",
   "metadata": {},
   "source": [
    "#### (A) Continuous \n",
    "\n",
    "- nominal\n",
    "\n",
    "#### (B) Discrete\n",
    "\n",
    "- ordinal"
   ]
  },
  {
   "cell_type": "markdown",
   "id": "a5279c7f",
   "metadata": {},
   "source": [
    "# Statistics types"
   ]
  },
  {
   "cell_type": "markdown",
   "id": "bbf606e5",
   "metadata": {},
   "source": [
    "> Descriptive: "
   ]
  },
  {
   "cell_type": "markdown",
   "id": "7f02fce0",
   "metadata": {},
   "source": [
    "#### (A) Central tendancy\n",
    "\n",
    "1. mean\n",
    "- find average value \n",
    "\n",
    "2. mode\n",
    "- find central tendency and most frequest value\n",
    "- can be used on categorical data\n",
    "\n",
    "3. median\n",
    "- find middle value\n",
    "\n",
    "#### (B) Variability\n",
    "\n",
    "1. range\n",
    "2. variance\n",
    "3. dispersion\n"
   ]
  },
  {
   "cell_type": "markdown",
   "id": "8ab64eaa",
   "metadata": {},
   "source": [
    "### Mean"
   ]
  },
  {
   "cell_type": "code",
   "execution_count": 5,
   "id": "f5c550a0",
   "metadata": {},
   "outputs": [
    {
     "name": "stdout",
     "output_type": "stream",
     "text": [
      "102.5\n"
     ]
    }
   ],
   "source": [
    "# Find mean\n",
    "import statistics\n",
    "\n",
    "print(statistics.mean((100,101,102,103,104,105)))"
   ]
  },
  {
   "cell_type": "markdown",
   "id": "d0af19af",
   "metadata": {},
   "source": [
    "### Median"
   ]
  },
  {
   "cell_type": "code",
   "execution_count": 6,
   "id": "634137fb",
   "metadata": {},
   "outputs": [
    {
     "name": "stdout",
     "output_type": "stream",
     "text": [
      "102.5\n"
     ]
    }
   ],
   "source": [
    "# Find median\n",
    "import statistics\n",
    "\n",
    "print(statistics.median((100,101,102,103,104,105)))"
   ]
  },
  {
   "cell_type": "markdown",
   "id": "3bf744b2",
   "metadata": {},
   "source": [
    "### Mode"
   ]
  },
  {
   "cell_type": "code",
   "execution_count": 7,
   "id": "2a979aa1",
   "metadata": {},
   "outputs": [
    {
     "name": "stdout",
     "output_type": "stream",
     "text": [
      "100\n"
     ]
    }
   ],
   "source": [
    "# Find mode in numerical\n",
    "import statistics\n",
    "\n",
    "print(statistics.mode((100,101,102,103,104,105)))"
   ]
  },
  {
   "cell_type": "code",
   "execution_count": 8,
   "id": "a598e664",
   "metadata": {},
   "outputs": [
    {
     "name": "stdout",
     "output_type": "stream",
     "text": [
      "green\n"
     ]
    }
   ],
   "source": [
    "# Find mode in categorical\n",
    "\n",
    "import statistics\n",
    "\n",
    "print( statistics.mode([\"red\", \"blue\", \"green\", \"yellow\", \"green\", \"white\"]))"
   ]
  },
  {
   "cell_type": "markdown",
   "id": "b5bef223",
   "metadata": {},
   "source": [
    "> Inferential:"
   ]
  },
  {
   "cell_type": "markdown",
   "id": "0a492a7d",
   "metadata": {},
   "source": [
    "### Min( ) and Max( ) "
   ]
  },
  {
   "cell_type": "code",
   "execution_count": 1,
   "id": "dbdc7dc1",
   "metadata": {},
   "outputs": [
    {
     "name": "stdout",
     "output_type": "stream",
     "text": [
      "1\n"
     ]
    }
   ],
   "source": [
    "data = [1,2,3,4,5,6,7,8,9,10]\n",
    "\n",
    "print(min(data))"
   ]
  },
  {
   "cell_type": "code",
   "execution_count": 4,
   "id": "a192fa3c",
   "metadata": {},
   "outputs": [
    {
     "name": "stdout",
     "output_type": "stream",
     "text": [
      "10\n"
     ]
    }
   ],
   "source": [
    "data = [1,2,3,4,5,6,7,8,9,10]\n",
    "\n",
    "print(max(data))"
   ]
  },
  {
   "cell_type": "markdown",
   "id": "30979be9",
   "metadata": {},
   "source": [
    "### Range( )"
   ]
  },
  {
   "cell_type": "code",
   "execution_count": 3,
   "id": "b2d595cf",
   "metadata": {},
   "outputs": [
    {
     "name": "stdout",
     "output_type": "stream",
     "text": [
      "9\n"
     ]
    }
   ],
   "source": [
    "data = [1,2,3,4,5,6,7,8,9,10]\n",
    "\n",
    "range = max(data) - min(data)\n",
    "\n",
    "print(range)"
   ]
  }
 ],
 "metadata": {
  "kernelspec": {
   "display_name": "Python 3 (ipykernel)",
   "language": "python",
   "name": "python3"
  },
  "language_info": {
   "codemirror_mode": {
    "name": "ipython",
    "version": 3
   },
   "file_extension": ".py",
   "mimetype": "text/x-python",
   "name": "python",
   "nbconvert_exporter": "python",
   "pygments_lexer": "ipython3",
   "version": "3.9.13"
  }
 },
 "nbformat": 4,
 "nbformat_minor": 5
}
